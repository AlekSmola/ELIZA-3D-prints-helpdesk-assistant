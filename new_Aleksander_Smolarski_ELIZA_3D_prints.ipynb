{
  "cells": [
    {
      "cell_type": "markdown",
      "metadata": {
        "id": "behNdrSj7RLT"
      },
      "source": [
        "# Execute below cell by pressing arrow button on the left side of the cell, or by pressing Shift+Enter. Make take few secends to execute for the first time.\n",
        "\n",
        "by Aleksander Smolarski, KRAI classes 2024\n",
        "\n",
        "[https://github.com/AlekSmola/ELIZA-3D-prints-helpdesk-assistant](https://github.com/AlekSmola/ELIZA-3D-prints-helpdesk-assistant)"
      ]
    },
    {
      "cell_type": "code",
      "execution_count": 1,
      "metadata": {
        "colab": {
          "base_uri": "https://localhost:8080/"
        },
        "id": "9SXql6lEpQpz",
        "outputId": "6001b321-f03e-4994-91f8-92cebce7533d"
      },
      "outputs": [
        {
          "output_type": "stream",
          "name": "stdout",
          "text": [
            "Execute cell by pressing Shift + Enter. Should output: sample_data\n",
            "\n",
            "sample_data\n"
          ]
        }
      ],
      "source": [
        "print(\"Execute cell by pressing Shift + Enter. Should output: sample_data\\n\")\n",
        "!ls\n",
        "\n",
        "# Required packages\n",
        "from nltk.util import ngrams\n",
        "from collections import Counter\n",
        "from itertools import chain\n",
        "import re\n",
        "import random"
      ]
    },
    {
      "cell_type": "code",
      "execution_count": 2,
      "metadata": {
        "colab": {
          "base_uri": "https://localhost:8080/"
        },
        "id": "hNPfCQDIwzbh",
        "outputId": "e180932b-cb0e-4846-958c-5b8bc5c737dc"
      },
      "outputs": [
        {
          "output_type": "stream",
          "name": "stdout",
          "text": [
            "Number of entries: 168\n"
          ]
        }
      ],
      "source": [
        "my_questions = [\n",
        "\n",
        "  ['What is 3D printing?', ['3D printing'], '3D printing is additive manufacturing technique. It builds product by melting plastic which is then layed down layer by layer from top to bottom.', '3D printing is an additive manufacturing technique that creates objects layer by layer from a digital design, typically by melting and extruding plastic filament. It allows for rapid prototyping and custom manufacturing across various industries, including medical, aerospace, and consumer products. While offering advantages like customization and material efficiency, it also has limitations such as slower production speeds and potential material constraints.'],\n",
        "  ['What is a slicer?', ['slicer',  'slicing', 'program'], 'Slicer is a program which \"cuts\" (slices) model from top to bottom and converts these slices into 2D movements which 3d printer understands', 'A slicer is a program that \"cuts\" (slices) a 3D model from top to bottom and converts these slices into 2D movements. These movements are instructions that the 3D printer understands to build the object layer by layer. This process translates the 3D design into a series of steps the printer can follow to create the physical model.'],\n",
        "  ['What is a gcode?', ['gcode', 'code', 'output'], '3D printers uses production based .gcode file format. It basically defines movement of each axis and extruder in any given moment. It also controls heating of bed and extruder, and sets parameters of the job.', 'G-code is a programming language used to control CNC machines, including 3D printers. It consists of commands that instruct the machine on how to move, where to move, and what actions to perform. In 3D printing, G-code translates the sliced model into precise movements and operations for the printer to create the object.'],\n",
        "  ['What format does 3d printer use?',['gcode', 'code', 'output'], '3D printers uses production based .gcode file format. It basically defines movement of each axis and extruder in any given moment. It also controls heating of bed and extruder, and sets parameters of the job.', '3D printers typically use STL (Stereolithography) files as the standard format for 3D models. These files describe the surface geometry of a 3D object without any color, texture, or other attributes. Other formats like OBJ and AMF can also be used, providing more detailed information about the model.'],\n",
        "\n",
        "  [\"What is 3D printing?\", [\"3D printing\", \"definition\"], \"3D printing is a process of creating three-dimensional objects from a digital file by adding material layer by layer.\", \"3D printing, also known as additive manufacturing, is a process of creating physical objects from a digital design file. It works by adding material layer by layer until the object is complete.\"],\n",
        "  [\"How does a 3D printer work?\", [\"3D printer\", \"operation\"], \"A 3D printer works by following instructions from a digital file to deposit material layer by layer until the object is fully formed.\", \"A 3D printer works by following instructions from a digital file, typically in the form of a 3D model created using computer-aided design (CAD) software. The printer then deposits material layer by layer according to these instructions until the object is fully formed.\"],\n",
        "  [\"What materials can be used for 3D printing?\", [\"3D printing\", \"materials\"], \"Various materials can be used for 3D printing, including plastics, metals, resins, and even food-grade materials.\", \"3D printing can utilize a wide range of materials, including plastics like PLA and ABS, metals such as aluminum and titanium, resins for high-detail applications, and even food-grade materials like chocolate and sugar for edible creations.\"],\n",
        "  [\"What can I make with a 3D printer?\", [\"3D printing\", \"applications\"], \"With a 3D printer, you can make a wide range of objects, including prototypes, toys, jewelry, replacement parts, and even prosthetics.\", \"The versatility of 3D printing enables the creation of diverse objects, including prototypes for product development, customized toys and decorations, intricate jewelry designs, functional replacement parts for machinery or appliances, and even prosthetic limbs tailored to individual needs.\"],\n",
        "  [\"Do I need special software to create 3D printable designs?\", [\"3D design\", \"software\"], \"Yes, you'll need 3D modeling software to create or modify designs for 3D printing. Some popular software options include Tinkercad, Fusion 360, and Blender.\", \"Creating 3D printable designs requires specialized software known as 3D modeling software. These programs allow users to create or modify digital 3D models, which can then be exported as files compatible with 3D printers. Popular options include Tinkercad for beginners, Fusion 360 for engineering and product design, and Blender for more advanced modeling and animation.\"],\n",
        "  [\"How much does a 3D printer cost?\", [\"3D printer\", \"cost\"], \"The cost of a 3D printer can vary widely depending on factors such as quality, features, and brand. Entry-level printers can start at a few hundred dollars, while industrial-grade printers can cost tens of thousands of dollars.\", \"The cost of a 3D printer varies depending on several factors, including its quality, features, and intended use. Entry-level consumer printers can be relatively affordable, starting at a few hundred dollars, while professional-grade or industrial printers with advanced capabilities can cost several thousand dollars or more.\"],\n",
        "  [\"Can I 3D print objects in different colors?\", [\"3D printing\", \"colors\"], \"Yes, some 3D printers support multi-color printing either through using multiple filaments or by mixing colors during printing. However, not all printers offer this capability.\", \"Certain 3D printers support multi-color printing, allowing users to create objects with intricate color patterns or gradients. This can be achieved through various methods, including using multiple filaments in a single print or employing printers equipped with multiple extruders capable of mixing colors during printing. However, it's important to note that not all 3D printers offer this capability, so it's essential to check the specifications of the printer before attempting multi-color printing.\"],\n",
        "  [\"What are some common problems people face when 3D printing?\", [\"3D printing\", \"problems\"], \"Common problems in 3D printing include adhesion issues, warping, stringing, layer shifting, and nozzle clogging.\", \"Despite its capabilities, 3D printing can present several challenges during the printing process. Some common problems include issues with bed adhesion, resulting in prints detaching from the print bed mid-print, warping or deformation of printed parts, stringing or oozing of filament between printed features, layer shifting causing misaligned layers, and nozzle clogging, leading to interruptions in filament flow and print defects.\"],\n",
        "  [\"How long does it take to 3D print something?\", [\"3D printing\", \"time\"], \"The time it takes to 3D print something depends on factors like the size, complexity, and resolution of the object, as well as the print settings. Small objects can take a few hours, while larger or more intricate prints may take several days.\", \"The duration of a 3D printing job varies depending on several factors, including the size, complexity, and desired quality of the object being printed, as well as the chosen print settings. Small or simple objects can typically be printed within a few hours, while larger or more intricate prints may require several hours or even days to complete, particularly if using finer layer heights or slower print speeds to achieve higher quality results.\"],\n",
        "  [\"Is 3D printing safe for the environment?\", [\"3D printing\", \"environment\"], \"While 3D printing offers benefits like reduced waste and on-demand manufacturing, some materials used in 3D printing can be harmful to the environment if not properly handled or disposed of. However, there are also environmentally-friendly materials available for 3D printing.\", \"3D printing offers several environmental benefits, such as reduced material waste compared to traditional manufacturing methods and the ability to produce items on-demand, minimizing excess inventory and transportation emissions. However, certain materials used in 3D printing, such as certain plastics and resins, can be harmful to the environment if not properly managed or disposed of. To mitigate environmental impact, it's important to use eco-friendly materials whenever possible and to follow proper recycling and waste disposal practices.\"],\n",
        "\n",
        "\n",
        "  [\"What should I do if my extruder is not heating up?\", [\"extruder\", \"heating\"], \"Check for faulty heating element or thermistor and ensure proper wiring connections.\", \"If your extruder is not heating up, it may indicate a faulty heating element or thermistor. Ensure proper wiring connections and check for any issues with these components.\"],\n",
        "  [\"What can I do if I hear clicking or grinding noise from the extruder?\", [\"extruder\", \"clicking\", \"grinding\"], \"Clean extruder gear and check for filament obstructions or misalignment.\", \"A clicking or grinding noise from the extruder may indicate filament obstructions or misalignment. Clean the extruder gear and check for any blockages or misalignments in the filament path.\"],\n",
        "  [\"What should I do if filament is not coming out of the extruder?\", [\"filament\", \"clogging\"], \"Unclog the nozzle using a cleaning filament or manually remove the blockage.\", \"If filament is not coming out of the extruder, it may be due to a nozzle clog. Try using a cleaning filament or manually remove the blockage from the nozzle to restore filament flow.\"],\n",
        "  [\"What is the best way to unclog an extruder nozzle?\", [\"nozzle\", \"clog\"], \"Heat nozzle to appropriate temperature and use a cleaning tool to clear the clog.\", \"To unclog the extruder nozzle, heat it to the appropriate temperature and use a cleaning tool to clear the blockage. Ensure the nozzle is thoroughly cleaned before resuming printing.\"],\n",
        "  [\"What are the causes of under-extrusion?\", [\"underextrusion\"], \"Check for filament diameter inconsistency, partial clogs, or improper extruder calibration.\", \"Under-extrusion can be caused by filament diameter inconsistency, partial clogs in the nozzle, or improper extruder calibration. Check these factors to address under-extrusion issues.\"],\n",
        "  [\"How can I improve print bed adhesion?\", [\"bed_adhesion\"], \"Ensure proper bed leveling, clean print surface, and use adhesion aids like glue stick or bed adhesives.\", \"To improve print bed adhesion, ensure proper bed leveling, clean the print surface thoroughly, and use adhesion aids such as glue stick or specialized bed adhesives.\"],\n",
        "  [\"Why do my prints warp or lift during printing?\", [\"warping\", \"lifting\"], \"Improve bed adhesion by adjusting bed temperature, using heated enclosure, or applying adhesion aids.\", \"Print warping or lifting can occur due to poor bed adhesion. Improve bed adhesion by adjusting bed temperature, using a heated enclosure, or applying adhesion aids such as glue or adhesive sheets.\"],\n",
        "  [\"How do I remove prints that are stuck to the bed?\", [\"print\", \"removal\"], \"Carefully use a spatula or scraper to gently pry the print off the bed.\", \"To remove prints stuck to the bed, carefully use a spatula or scraper to gently pry the print off the bed. Take care not to damage the print or the print bed during removal.\"],\n",
        "  [\"Why are my print layers shifting during printing?\", [\"layer_shift\", \"shifting\"], \"Check for loose belts or pulleys, ensure proper belt tension, and verify stable print bed.\", \"If print layers are shifting during printing, check for loose belts or pulleys, ensure proper belt tension, and verify that the print bed is stable. Addressing these issues can help prevent layer shifting.\"],\n",
        "  [\"What can I do to prevent layer shifting?\", [\"layer_shift\", \"prevention\"], \"Ensure proper assembly and calibration, consider upgrading to a more rigid frame.\", \"To prevent layer shifting, ensure proper assembly and calibration of the printer. Consider upgrading to a more rigid frame to minimize mechanical vibrations that can cause layer shifting.\"],\n",
        "  [\"What are the causes of Z-axis banding?\", [\"Z-axis\", \"banding\"], \"Check for bent or misaligned Z-axis rods, loose couplings, or insufficient lubrication.\", \"Z-axis banding may be caused by bent or misaligned Z-axis rods, loose couplings, or insufficient lubrication. Check these components to address banding issues.\"],\n",
        "  [\"How do I clear a filament jam from my printer?\", [\"filament_jam\", \"clogging\"], \"Heat extruder to melting point of filament and manually remove jam.\", \"To clear a filament jam from the printer, heat the extruder to the melting point of the filament and manually remove the jam. Ensure the extruder is clear before resuming printing.\"],\n",
        "  [\"What should I do if filament is stuck in the extruder gear?\", [\"filament_jam\", \"gear\"], \"Check for obstructions in the extruder gear, ensure proper filament tension.\", \"If filament is stuck in the extruder gear, check for obstructions and ensure proper filament tension. Clear any blockages to restore filament flow.\"],\n",
        "  [\"What are the causes of overextrusion?\", [\"overextrusion\"], \"Check filament diameter settings, extrusion multiplier, or inconsistent extruder steps per mm.\", \"Overextrusion may be caused by incorrect filament diameter settings, extrusion multiplier, or inconsistent extruder steps per mm. Check these settings to address overextrusion issues.\"],\n",
        "  [\"How can I fix overextrusion?\", [\"overextrusion\", \"fix\"], \"Adjust extrusion multiplier, calibrate extruder steps per mm, or reduce flow rate in slicer settings.\", \"To fix overextrusion, adjust the extrusion multiplier, calibrate the extruder steps per mm, or reduce the flow rate in the slicer settings. These adjustments can help achieve proper extrusion.\"],\n",
        "  [\"How can I clear a clogged nozzle?\", [\"nozzle_clog\", \"clogging\"], \"Heat nozzle to melting temperature and manually remove the clog.\", \"To clear a clogged nozzle, heat it to the melting temperature of the filament and manually remove the clog. Ensure the nozzle is clear before resuming printing.\"],\n",
        "  [\"Why is my nozzle constantly clogging?\", [\"nozzle_clog\"], \"Possible reasons include poor filament quality, improper cooling, or printing at incorrect temperatures.\", \"If the nozzle is constantly clogging, possible reasons include poor filament quality, improper cooling, or printing at incorrect temperatures. Address these factors to prevent nozzle clogs.\"],\n",
        "  [\"What are the best methods to prevent nozzle clogs?\", [\"nozzle_clog\", \"prevention\"], \"Regularly clean nozzle, use high-quality filament, ensure proper printing temperatures and cooling.\", \"To prevent nozzle clogs, regularly clean the nozzle, use high-quality filament, and ensure proper printing temperatures and cooling. These practices can help maintain nozzle performance.\"],\n",
        "  [\"What are the signs of low quality prints?\", [\"print_quality\", \"low\", \"quality\"], \"Check for under or overextrusion, improper settings, or mechanical problems.\", \"Low-quality prints may be caused by under or overextrusion, improper settings, or mechanical problems. Address these factors to improve print quality.\"],\n",
        "  [\"How can I improve the surface finish of my prints?\", [\"print_quality\", \"surface\", \"finish\"], \"Optimize settings like layer height and speed, use higher quality filaments, consider post-processing techniques.\", \"To improve the surface finish of prints, optimize settings such as layer height and speed, use higher quality filaments, and consider post-processing techniques such as sanding or smoothing.\"],\n",
        "  [\"What causes ghosting or ringing in prints?\", [\"print_quality\", \"ghosting\", \"ringing\"], \"Mechanical vibrations, loose belts, or excessive print speeds may cause ghosting or ringing.\", \"Ghosting or ringing in prints may be caused by mechanical vibrations, loose belts, or excessive print speeds. Address these factors to reduce ghosting and ringing artifacts.\"],\n",
        "  [\"How can I troubleshoot layer adhesion issues?\", [\"print_quality\", \"layer\", \"adhesion\"], \"Ensure proper bed leveling, temperature settings, increase extrusion multiplier or infill density.\", \"To troubleshoot layer adhesion issues, ensure proper bed leveling, temperature settings, and consider increasing the extrusion multiplier or infill density. These adjustments can improve layer adhesion.\"],\n",
        "  [\"What is the proper way to level a print bed?\", [\"bed_leveling\"], \"Follow manufacturer's instructions for manual bed leveling or use automatic bed leveling if available.\", \"To properly level the print bed, follow the manufacturer's instructions for manual bed leveling or use automatic bed leveling if available. A level bed is essential for successful 3D printing.\"],\n",
        "  [\"Why is bed leveling important?\", [\"bed_leveling\", \"importance\"], \"Proper bed leveling ensures even first layer adhesion and consistent print quality.\", \"The importance of bed leveling lies in ensuring even first layer adhesion and consistent print quality. A leveled bed is crucial for successful 3D printing.\"],\n",
        "  [\"What are the signs of improper bed leveling?\", [\"bed_leveling\", \"signs\", \"improper\"], \"Uneven first layers, poor bed adhesion, or inconsistent print quality.\", \"Signs of improper bed leveling include uneven first layers, poor bed adhesion, or inconsistent print quality. Address these signs to improve bed leveling.\"],\n",
        "  [\"How can I prevent warping in my prints?\", [\"print_warpage\", \"prevention\"], \"Use heated print bed, adhesion aids like glue or tape, minimize temperature fluctuations.\", \"To prevent warping in prints, use a heated print bed, adhesion aids like glue or tape, and minimize temperature fluctuations. These measures can help mitigate warping issues.\"],\n",
        "  [\"What causes prints to warp during printing?\", [\"print_warpage\", \"cause\"], \"Uneven cooling, improper bed adhesion, high printing temperatures, or poor part geometry may cause warping.\", \"Prints may warp during printing due to factors such as uneven cooling, improper bed adhesion, high printing temperatures, or poor part geometry. Address these factors to prevent warping issues.\"],\n",
        "  [\"How can I improve bed adhesion to prevent warping?\", [\"print_warpage\", \"bed_adhesion\"], \"Increase bed temperature, use adhesion aids like a raft or brim, ensure proper bed leveling.\", \"To improve bed adhesion and prevent warping, increase the bed temperature, use adhesion aids like a raft or brim, and ensure proper bed leveling. These measures can help mitigate warping issues.\"],\n",
        "  [\"Does print speed affect print quality?\", [\"print_speed\", \"quality\"], \"Higher speeds may sacrifice detail, slower speeds usually result in higher quality prints.\", \"Print speed can affect print quality, with higher speeds sacrificing detail while slower speeds generally result in higher quality prints. Balance speed with quality requirements for optimal results.\"],\n",
        "  [\"What is the optimal print speed for my printer?\", [\"print_speed\", \"optimal\", \"speed\"], \"Depends on printer capabilities, filament type, and desired quality, requires experimentation.\", \"The optimal print speed for a printer depends on its capabilities, filament type, desired quality, and may require experimentation. Find the speed that balances print quality with printing time.\"],\n",
        "  [\"Can fast print speeds cause defects?\", [\"print_speed\", \"defects\", \"fast\"], \"May cause ringing, ghosting, or poor layer adhesion due to mechanical stress.\", \"Fast print speeds may cause defects such as ringing, ghosting, or poor layer adhesion due to mechanical stress. Consider reducing speed to improve print quality.\"],\n",
        "  [\"How do I remove support structures from prints?\", [\"support_removal\", \"removal\"], \"Use pliers or flush cutters to gently break away supports.\", \"To remove support structures from prints, use pliers or flush cutters to gently break them away. Take care not to damage the print during removal.\"],\n",
        "  [\"What is the best technique for support removal?\", [\"support_removal\", \"technique\"], \"Experiment with manual removal, dissolvable supports, or support removal aids like pliers or knives.\", \"The best technique for support removal may vary and can include manual removal, dissolvable supports, or using support removal aids like pliers or knives. Experiment to find the most suitable technique for your prints.\"],\n",
        "  [\"Why are support marks visible on prints after removal?\", [\"support_removal\", \"marks\", \"visible\"], \"Can occur due to improper support settings, poor support adhesion, or aggressive removal techniques.\", \"Support marks visible on prints after removal may occur due to improper support settings, poor support adhesion, or aggressive removal techniques. Adjust settings and removal technique to minimize marks.\"],\n",
        "  [\"How can I control cooling fan speed during printing?\", [\"cooling_fan\", \"fan\", \"speed\"], \"Adjust fan speed in slicer software or firmware settings if available.\", \"To control cooling fan speed during printing, adjust the fan speed in slicer software or firmware settings if available. Optimize cooling to improve print quality and reduce defects.\"],\n",
        "  [\"Why is my print overheating and deforming?\", [\"cooling_fan\", \"overheating\", \"deforming\"], \"Insufficient cooling or excessive print temperatures may cause overheating and deformation.\", \"Print overheating and deforming may be caused by insufficient cooling or excessive print temperatures. Improve cooling and temperature control to prevent overheating issues.\"],\n",
        "  [\"What is the optimal cooling fan setup for PLA prints?\", [\"cooling_fan\", \"PLA\", \"optimal\", \"setup\"], \"Gradually increasing fan speed for higher layers can prevent overheating.\", \"For PLA prints, an optimal cooling fan setup may involve gradually increasing fan speed for higher layers to prevent overheating. Experiment with cooling settings for best results.\"],\n",
        "  [\"What is the best temperature for the nozzle?\", [\"nozzle_temp\", \"temperature\"], \"Depends on filament material, refer to manufacturer recommendations.\", \"The best temperature for the nozzle depends on the filament material used. Refer to the manufacturer's recommendations for the appropriate temperature range for optimal printing results.\"],\n",
        "  [\"Can prints under or over-extrude based on temperature?\", [\"nozzle_temp\", \"extrusion\", \"temperature\"], \"Incorrect temperature can cause under or over-extrusion, affecting print quality and adhesion.\", \"Incorrect temperature can cause under or over-extrusion, affecting print quality and adhesion. Ensure the nozzle temperature is within the recommended range for the filament material.\"],\n",
        "  [\"How do I adjust nozzle temperature for different filaments?\", [\"nozzle_temp\", \"temperature\", \"adjustment\"], \"Refer to filament manufacturer specs, adjust temperature accordingly in slicer settings.\", \"To adjust nozzle temperature for different filaments, refer to the filament manufacturer specifications and adjust the temperature accordingly in the slicer settings. Optimize temperature settings for each filament type used.\"],\n",
        "  [\"What is the ideal bed temperature for prints?\", [\"bed_temp\", \"temperature\"], \"Varies by filament, generally 50-70°C for PLA, 80-110°C for ABS.\", \"The ideal bed temperature for prints varies by filament type, generally ranging from 50-70°C for PLA and 80-110°C for ABS. Adjust bed temperature according to the filament material used for optimal adhesion.\"],\n",
        "  [\"Why is my print lifting even with proper bed temperature?\", [\"bed_temp\", \"lifting\", \"print\"], \"Inadequate adhesion or bed leveling may cause lifting, ensure clean and leveled bed.\", \"If prints are lifting even with proper bed temperature, inadequate adhesion or bed leveling may be the cause. Ensure the bed is clean and leveled properly to improve adhesion.\"],\n",
        "\n",
        "  [\"Why is my extruder not heating up?\", [\"extruder\", \"heating\"], \"Check if the heating element or thermistor is faulty and ensure proper wiring connections.\"],\n",
        "  [\"How do I fix extruder clicking/grinding noise?\", [\"extruder\", \"clicking\", \"grinding\"], \"Clean the extruder gear and check for filament obstructions or misalignment.\"],\n",
        "  [\"Why is filament not coming out of the extruder?\", [\"extruder\", \"filament\", \"clogging\"], \"Unclog the nozzle using a cleaning filament or manually remove the blockage with a nozzle cleaning tool.\"],\n",
        "  [\"How can I unclog my extruder nozzle?\", [\"extruder\", \"nozzle\", \"clog\"], \"Heat the extruder to the appropriate temperature and use a nozzle cleaning tool to clear the clog.\"],\n",
        "  [\"What causes under-extrusion?\", [\"underextrusion\", \"extruder\"], \"Check for issues such as filament diameter inconsistency, partial clogs, or improper extruder calibration.\"],\n",
        "  [\"How do I prevent prints from not sticking to the bed?\", [\"bed_adhesion\", \"print\", \"bed\"], \"Ensure proper bed leveling, clean the print surface, and use adhesion aids such as glue stick or print bed adhesives.\"],\n",
        "  [\"Why are prints warping or lifting from the bed?\", [\"bed_adhesion\", \"warping\", \"lifting\"], \"Improve bed adhesion by adjusting bed temperature, using a heated enclosure, or applying additional adhesion aids.\"],\n",
        "  [\"How do I remove prints stuck to the bed?\", [\"bed_adhesion\", \"print\", \"removal\"], \"Carefully use a spatula or scraper to gently pry the print off the bed, taking care not to damage the print or bed surface.\"],\n",
        "  [\"Why are my print layers shifting during printing?\", [\"layer_shift\", \"print\", \"shifting\"], \"Check for loose belts or pulleys, ensure proper belt tension, and verify that the print bed is stable and level.\"],\n",
        "  [\"How can I prevent layer shifting?\", [\"layer_shift\", \"prevention\"], \"Ensure proper assembly and calibration of the printer, and consider upgrading to a more rigid frame if necessary.\"],\n",
        "  [\"What causes Z-axis banding?\", [\"layer_shift\", \"Z-axis\", \"banding\"], \"Check for bent or misaligned Z-axis rods, loose couplings, or insufficient lubrication on the Z-axis leadscrew.\"],\n",
        "  [\"How do I clear a filament jam from my 3D printer?\", [\"filament_jam\", \"clogging\", \"extruder\"], \"Heat the extruder to the melting point of the filament and manually remove the jam using tweezers or a nozzle cleaning tool.\"],\n",
        "  [\"Why is my filament getting stuck in the extruder gear?\", [\"filament_jam\", \"extruder\", \"gear\"], \"Check for obstructions in the extruder gear, ensure proper tension on the filament, and verify that the filament path is clear.\"],\n",
        "  [\"What causes filament jams in the hotend?\", [\"filament_jam\", \"hotend\", \"clogging\"], \"Potential causes include heat creep, improper cooling, or foreign debris obstructing the hotend nozzle.\"],\n",
        "  [\"What causes overextrusion in 3D printing?\", [\"overextrusion\", \"extruder\"], \"Common causes include incorrect filament diameter settings, over-calibrated extrusion multiplier, or inconsistent extruder steps per mm.\"],\n",
        "  [\"How do I fix overextrusion problems in my prints?\", [\"overextrusion\", \"fix\"], \"Adjust the extrusion multiplier, calibrate the extruder steps per mm, or reduce the flow rate in the slicer settings.\"],\n",
        "  [\"How do I clear a clogged nozzle?\", [\"nozzle_clog\", \"clogging\", \"nozzle\"], \"Heat the nozzle to its melting temperature and manually remove the clog using a nozzle cleaning tool or filament.\"],\n",
        "  [\"Why is my nozzle constantly clogging?\", [\"nozzle_clog\", \"clogging\", \"nozzle\"], \"Possible reasons include poor filament quality, improper cooling, or printing at temperatures too low or too high for the filament.\"],\n",
        "  [\"What are the best methods to prevent nozzle clogs?\", [\"nozzle_clog\", \"prevention\"], \"Regularly clean the nozzle, use high-quality filament, and ensure proper printing temperatures and cooling settings.\"],\n",
        "  [\"Why are my prints coming out low quality?\", [\"print_quality\", \"low\", \"quality\"], \"Check for issues such as under or overextrusion, improper print settings, or mechanical problems with the printer.\"],\n",
        "  [\"How can I improve the surface finish of my prints?\", [\"print_quality\", \"surface\", \"finish\"], \"Optimize print settings such as layer height and speed, use higher quality filaments, and consider post-processing techniques like sanding or painting.\"],\n",
        "  [\"What causes ghosting or ringing in prints?\", [\"print_quality\", \"ghosting\", \"ringing\"], \"Common causes include mechanical vibrations, loose belts or pulleys, or excessive print speeds.\"],\n",
        "  [\"How do I troubleshoot layer adhesion issues?\", [\"print_quality\", \"layer\", \"adhesion\"], \"Ensure proper bed leveling and temperature settings, increase extrusion multiplier or infill density, and verify filament quality and age.\"],\n",
        "  [\"How do I properly level my print bed?\", [\"bed_leveling\", \"print\", \"bed\"], \"Follow the printer manufacturer's instructions for manual bed leveling or use automatic bed leveling features if available.\"],\n",
        "  [\"Why is bed leveling important in 3D printing?\", [\"bed_leveling\", \"importance\"], \"Proper bed leveling ensures that the first layer adheres evenly to the print bed, resulting in successful prints with consistent quality.\"],\n",
        "  [\"What are the signs of improper bed leveling?\", [\"bed_leveling\", \"signs\", \"improper\"], \"Signs include uneven first layers, poor bed adhesion, and inconsistent print quality across the build plate.\"],\n",
        "  [\"How do I prevent warping in 3D prints?\", [\"print_warpage\", \"warping\", \"prevention\"], \"Use a heated print bed, apply adhesion aids like glue or tape, and minimize temperature fluctuations in the printing environment.\"],\n",
        "  [\"What causes prints to warp during printing?\", [\"print_warpage\", \"warping\", \"cause\"], \"Warping can be caused by uneven cooling, improper bed adhesion, high printing temperatures, or poor part geometry.\"],\n",
        "  [\"How can I improve bed adhesion to prevent warping?\", [\"print_warpage\", \"bed_adhesion\", \"warping\"], \"Increase bed temperature, apply adhesion aids like a raft or brim, and ensure proper bed leveling and surface cleanliness.\"],\n",
        "  [\"How does print speed affect print quality?\", [\"print_speed\", \"print\", \"quality\"], \"Higher print speeds can sacrifice detail and surface quality but reduce print time, while slower speeds typically result in higher quality prints with finer details.\"],\n",
        "  [\"What's the optimal print speed for my printer?\", [\"print_speed\", \"optimal\", \"speed\"], \"The optimal print speed depends on factors like printer capabilities, filament type, and desired print quality, so it may require experimentation to find the ideal setting for your specific needs.\"],\n",
        "  [\"Why are fast print speeds causing print defects?\", [\"print_speed\", \"defects\", \"fast\"], \"Fast print speeds can lead to issues like ringing, ghosting, or poor layer adhesion due to increased mechanical stress and reduced cooling time for each layer.\"],\n",
        "  [\"How do I remove support structures from my prints?\", [\"support_removal\", \"support\", \"removal\"], \"Carefully use tools like pliers or flush cutters to gently break away support structures, taking care not to damage the print itself.\"],\n",
        "  [\"What's the best technique for support removal?\", [\"support_removal\", \"technique\"], \"Experiment with different tools and methods such as manual removal, dissolvable supports, or using support removal aids like support removal pliers or knives.\"],\n",
        "  [\"Why are support marks visible on my prints after removal?\", [\"support_removal\", \"marks\", \"visible\"], \"Support marks can occur due to improper support settings, poor support adhesion to the model, or aggressive support removal techniques.\"],\n",
        "  [\"How do I control cooling fan speed during printing?\", [\"cooling_fan\", \"fan\", \"speed\"], \"Adjust fan speed settings in the slicer software or use firmware settings if available to control the speed of the cooling fan during printing.\"],\n",
        "  [\"Why is my print overheating and deforming?\", [\"cooling_fan\", \"overheating\", \"deforming\"], \"Insufficient cooling or excessive print temperatures can cause overheating and deformation, so ensure proper fan operation and adjust print settings accordingly.\"],\n",
        "  [\"What's the optimal cooling fan setup for PLA prints?\", [\"cooling_fan\", \"PLA\", \"optimal\", \"setup\"], \"For PLA prints, a cooling fan setup that gradually increases fan speed for higher layers can help prevent overheating and improve print quality.\"],\n",
        "  [\"What's the best temperature for my nozzle?\", [\"nozzle_temp\", \"nozzle\", \"temperature\"], \"The best nozzle temperature depends on the filament material being used, so refer to filament manufacturer recommendations for the appropriate temperature range.\"],\n",
        "  [\"Why are my prints under or over-extruding based on temperature?\", [\"nozzle_temp\", \"extrusion\", \"temperature\"], \"Incorrect nozzle temperature can lead to under or over-extrusion, affecting print quality and adhesion, so ensure the nozzle temperature matches the filament's requirements.\"],\n",
        "  [\"How do I adjust nozzle temperature for different filaments?\", [\"nozzle_temp\", \"temperature\", \"adjustment\"], \"Refer to filament manufacturer specifications for recommended printing temperatures and adjust the nozzle temperature accordingly in the slicer settings.\"],\n",
        "  [\"What's the ideal bed temperature for my prints?\", [\"bed_temp\", \"bed\", \"temperature\"], \"The ideal bed temperature varies depending on the filament material, but generally falls between 50-70°C for PLA and 80-110°C for ABS.\"],\n",
        "  [\"Why is my print lifting even with proper bed temperature?\", [\"bed_temp\", \"lifting\", \"print\"], \"Inadequate bed adhesion or improper bed leveling can cause prints to lift, so ensure the print bed is clean, properly heated, and level.\"],\n",
        "  [\"How do I adjust bed temperature for different filament types?\", [\"bed_temp\", \"temperature\", \"adjustment\"], \"Consult filament manufacturer recommendations for the optimal bed temperature range and adjust settings accordingly in the slicer software.\"],\n",
        "  [\"How do I adjust belt tension on my printer?\", [\"belt_tension\", \"belt\", \"tension\"], \"Use the tension adjustment mechanisms provided on the printer or adjust belt tension by loosening or tightening the belt attachment screws.\"],\n",
        "  [\"What are the signs of improper belt tension?\", [\"belt_tension\", \"signs\", \"improper\"], \"Signs include belt slippage, uneven print layers, or artifacts in the print caused by belt vibration or oscillation.\"],\n",
        "  [\"Why does belt tension affect print quality?\", [\"belt_tension\", \"print\", \"quality\"], \"Proper belt tension ensures accurate movement of the print head and prevents artifacts or inconsistencies in the printed layers, resulting in higher quality prints.\"],\n",
        "  [\"How do I update the firmware on my 3D printer?\", [\"firmware_update\", \"update\", \"firmware\"], \"Follow the manufacturer's instructions for updating firmware, typically involving downloading the latest firmware version and uploading it to the printer via USB or SD card.\"],\n",
        "  [\"What are the benefits of updating printer firmware?\", [\"firmware_update\", \"benefits\"], \"Firmware updates can introduce new features, improve print quality, fix bugs or security vulnerabilities, and enhance overall printer performance and reliability.\"],\n",
        "  [\"Why is it important to keep firmware up to date?\", [\"firmware_update\", \"importance\", \"update\"], \"Regular firmware updates help ensure compatibility with new software releases, address known issues, and maintain optimal printer functionality and performance.\"],\n",
        "  [\"What causes clogging in the hotend or nozzle?\", [\"clogging\", \"hotend\", \"nozzle\"], \"Common causes of clogging include debris buildup, filament dust, improper temperature settings, or using low-quality or moisture-contaminated filament.\"],\n",
        "  [\"How can I prevent filament clogs in my printer?\", [\"clogging\", \"prevention\"], \"Store filament properly in a dry environment, regularly clean the hotend and nozzle, and avoid printing at temperatures that exceed the filament's recommended range.\"],\n",
        "  [\"Why does my filament keep jamming during prints?\", [\"clogging\", \"jamming\", \"filament\"], \"Filament jams can occur due to issues such as partial clogs, improper filament path alignment, or filament diameter inconsistency, so troubleshoot these areas to prevent jams.\"],\n",
        "  [\"How does layer height affect print quality?\", [\"layer_height\", \"layer\", \"height\", \"quality\"], \"Lower layer heights result in finer detail and smoother surfaces but increase print time, while higher layer heights sacrifice detail for faster prints with lower quality.\"],\n",
        "  [\"What's the optimal layer height for my prints?\", [\"layer_height\", \"optimal\", \"height\"], \"The optimal layer height depends on the desired print quality and speed, so choose a layer height that balances these factors for your specific application.\"],\n",
        "  [\"Why are my prints failing at certain layer heights?\", [\"layer_height\", \"print\", \"failure\"], \"Print failures at specific layer heights can be caused by insufficient cooling time, improper layer adhesion, or mechanical issues such as Z-axis misalignment.\"],\n",
        "  [\"What's the best adhesive for bed adhesion?\", [\"bed_adhesive\", \"adhesive\", \"bed\"], \"Common adhesives include glue sticks, hairspray, or specialized bed adhesion products like PEI sheets or BuildTak surfaces, so experiment to find the best option for your print surface.\"],\n",
        "  [\"How do I apply bed adhesive for optimal adhesion?\", [\"bed_adhesive\", \"adhesive\", \"application\"], \"Apply a thin, even layer of adhesive to the print surface before starting the print, ensuring complete coverage without excess buildup that could interfere with print quality.\"],\n",
        "  [\"Why is my print still lifting even with adhesive applied?\", [\"bed_adhesive\", \"lifting\", \"print\"], \"Insufficient bed temperature, improper bed leveling, or inadequate adhesive coverage can cause prints to lift despite using adhesion aids, so address these factors to improve adhesion.\"],\n",
        "  [\"How does infill density affect print strength?\", [\"infill_density\", \"infill\", \"strength\"], \"Higher infill densities increase print strength and durability but also require more material and longer print times, while lower densities result in lighter, lessrobust prints.\"],\n",
        "  [\"What's the best infill pattern for my prints?\", [\"infill_pattern\", \"infill\", \"pattern\"], \"Common infill patterns include grid, honeycomb, and gyroid, each offering different strength and weight characteristics, so choose a pattern that suits your print's structural requirements.\"],\n",
        "  [\"Why are my prints weak or fragile?\", [\"print_strength\", \"weak\", \"fragile\"], \"Weak prints can result from insufficient infill density, poor layer adhesion, or using low-quality or improperly stored filament, so optimize print settings and filament handling practices to improve print strength.\"],\n",
        "  [\"How do I improve print strength and durability?\", [\"print_strength\", \"improvement\", \"durability\"], \"Increase infill density, optimize layer adhesion settings, and use high-quality filament stored in a dry environment to enhance print strength and durability.\"],\n",
        "  [\"What causes surface defects or roughness in prints?\", [\"surface_defects\", \"roughness\", \"print\"], \"Surface defects can result from issues such as overextrusion, improper cooling, or mechanical vibrations during printing, so troubleshoot these areas to improve surface quality.\"],\n",
        "  [\"How can I smooth out rough surfaces on my prints?\", [\"surface_smooth\", \"smooth\", \"print\"], \"Post-processing techniques such as sanding, acetone vapor smoothing, or using filler primers can help smooth out rough surfaces and improve print aesthetics.\"],\n",
        "  [\"Why is my print stringing between features?\", [\"stringing\", \"print\", \"features\"], \"Stringing occurs due to excessive filament oozing during travel moves, so adjust retraction settings to minimize filament oozing and stringing between features.\"],\n",
        "  [\"How do I prevent stringing when printing?\", [\"stringing\", \"prevention\", \"print\"], \"Optimize retraction settings, reduce print temperature or travel speed, and increase travel retraction distance to minimize stringing between printed features.\"],\n",
        "  [\"What causes blobs or zits on my prints?\", [\"blobs_zits\", \"print\", \"defects\"], \"Blobs and zits can result from issues such as inconsistent extrusion, retraction settings, or improper cooling, so fine-tune print settings to minimize these defects.\"],\n",
        "  [\"How can I eliminate blobs and zits from my prints?\", [\"blobs_zits\", \"elimination\", \"print\"], \"Adjust retraction settings, optimize print temperature and cooling, and ensure smooth filament flow to minimize or eliminate blobs and zits on printed surfaces.\"],\n",
        "  [\"Why is my print missing layers or features?\", [\"missing_layers\", \"missing_features\", \"print\"], \"Missing layers or features can be caused by issues such as stepper motor skipping, loose belts or pulleys, or software errors, so troubleshoot these areas to ensure consistent printing.\"],\n",
        "  [\"How do I fix missing layers or features in my prints?\", [\"missing_layers\", \"fix\", \"print\"], \"Check for mechanical issues like loose belts or pulleys, ensure proper stepper motor calibration, and verify slicer settings to address missing layers or features in prints.\"],\n",
        "  [\"What causes inconsistent layer heights in prints?\", [\"inconsistent_layers\", \"layer_height\", \"print\"], \"Inconsistent layer heights can result from issues such as Z-axis binding, improper slicer settings, or mechanical problems with the printer, so diagnose and address these issues to achieve uniform layer heights.\"],\n",
        "  [\"How can I achieve consistent layer heights in my prints?\", [\"inconsistent_layers\", \"consistency\", \"print\"], \"Ensure proper printer calibration and maintenance, use high-quality filament, and optimize slicer settings to achieve consistent layer heights in prints.\"],\n",
        "  [\"Why are there gaps or voids in my prints?\", [\"gaps_voids\", \"print\", \"defects\"], \"Gaps and voids can occur due to underextrusion, insufficient infill density, or mechanical issues such as loose belts, so troubleshoot these areas to improve print quality.\"],\n",
        "  [\"How do I prevent gaps and voids in my prints?\", [\"gaps_voids\", \"prevention\", \"print\"], \"Increase infill density, verify extrusion settings and filament diameter, and ensure proper printer calibration to minimize gaps and voids in prints.\"],\n",
        "  [\"What causes layer delamination in 3D prints?\", [\"layer_delamination\", \"delamination\", \"print\"], \"Layer delamination can result from inadequate layer bonding due to factors such as insufficient print temperature, poor cooling, or excessive print speeds, so address these issues to improve print strength.\"],\n",
        "  [\"How can I prevent layer delamination in my prints?\", [\"layer_delamination\", \"prevention\", \"print\"], \"Optimize print temperature and cooling settings, increase layer bonding with slower print speeds or higher temperatures, and ensure proper adhesion between layers to prevent delamination.\"],\n",
        "  [\"Why do my prints have rough surfaces?\", [\"rough_surfaces\", \"print\", \"surface\"], \"Rough surfaces can result from issues such as overextrusion, improper cooling, or mechanical vibrations during printing, so troubleshoot these areas to improve surface finish.\"],\n",
        "  [\"How do I improve surface finish on my prints?\", [\"surface_finish\", \"improvement\", \"print\"], \"Optimize print settings such as layer height and speed, use higher quality filaments, and consider post-processing techniques like sanding or chemical smoothing to improve surface finish.\"],\n",
        "  [\"What causes overhangs to fail in prints?\", [\"overhang_failure\", \"overhang\", \"print\"], \"Overhangs can fail due to insufficient cooling, inadequate support structures, or printing at excessive speeds, so optimize cooling settings and use supports for challenging overhang angles.\"],\n",
        "  [\"How can I improve overhang performance in my prints?\", [\"overhang_failure\", \"improvement\", \"print\"], \"Optimize print orientation and support placement, increase cooling fan speed, and use support structures for overhangs to improve print quality and overhang performance.\"],\n",
        "  [\"Why is my print layer shifting during printing?\", [\"layer_shifting\", \"print\", \"shifting\"], \"Layer shifting can occur due to mechanical issues such as loose belts or pulleys, stepper motor skipping, or software errors, so troubleshoot these areas to address shifting problems.\"],\n",
        "  [\"How do I prevent layer shifting in my prints?\", [\"layer_shifting\", \"prevention\", \"print\"], \"Ensure proper belt tension and alignment, check for loose connections or damaged components, and verify slicer settings to prevent layer shifting during printing.\"],\n",
        "  [\"What causes ringing artifacts on prints?\", [\"ringing_artifacts\", \"ringing\", \"print\"], \"Ringing artifacts are typically caused by mechanical vibrations, high printing speeds, or resonance frequencies in the printer's frame, so reduce print speed or adjust acceleration settings to minimize ringing.\"],\n",
        "  [\"How can I reduce or eliminate ringing artifacts?\", [\"ringing_artifacts\", \"reduction\", \"print\"], \"Lower print speeds, reduce jerk or acceleration settings, and improve printer rigidity or dampen vibrations with upgrades or modifications to minimize or eliminate ringing artifacts.\"],\n",
        "  [\"Why is my print surface rough or uneven?\", [\"uneven_surface\", \"rough\", \"print\"], \"Uneven print surfaces can result from issues such as bed leveling problems, inconsistent extrusion, or mechanical issues with the printer, so troubleshoot these areas to improve surface quality.\"],\n",
        "  [\"How do I achieve a smooth and even print surface?\", [\"smooth_surface\", \"even\", \"print\"], \"Ensure proper bed leveling and calibration, optimize extrusion settings, and minimize mechanical vibrations to achieve a smooth and even print surface.\"],\n",
        "  [\"What causes nozzle clogs and how do I prevent them?\", [\"nozzle_clogs\", \"prevention\", \"clogging\"], \"Nozzle clogs can be caused by debris buildup, filament dust, or improper temperature settings, so regularly clean the nozzle and use high-quality filament stored in a dry environment to prevent clogs.\"],\n",
        "  [\"How do I troubleshoot under-extrusion issues?\", [\"underextrusion_troubleshooting\", \"troubleshooting\", \"underextrusion\"], \"Check for issues such as partial clogs, improper filament diameter settings, or inadequate extruder tension, and adjust settings accordingly to address under-extrusion problems.\"],\n",
        "  [\"What causes over-extrusion and how do I fix it?\", [\"overextrusion_troubleshooting\", \"troubleshooting\", \"overextrusion\"], \"Over-extrusion can result from incorrect filament diameter settings, over-calibrated extrusion multiplier, or improper extruder tension, so adjust settings and calibrate the extruder to address over-extrusion issues.\"],\n",
        "  [\"How do I troubleshoot print quality issues?\", [\"print_quality_troubleshooting\", \"troubleshooting\", \"print_quality\"], \"Identify potential issues such as under or over-extrusion, improper print settings, or mechanical problems with the printer, and systematically troubleshoot each area to improve print quality.\"],\n",
        "  [\"What causes layer adhesion problems and how do I solve them?\", [\"layer_adhesion_troubleshooting\", \"troubleshooting\", \"layer_adhesion\"], \"Layer adhesion problems can stem from issues such as improper bed leveling, inadequate temperature settings, or poor filament quality, so diagnose and address these factors to improve layer adhesion.\"],\n",
        "  [\"How do I troubleshoot print warping or lifting issues?\", [\"warping_troubleshooting\", \"troubleshooting\", \"warping\"], \"Investigate potential causes such as insufficient bed adhesion, improper cooling, or printing at excessive temperatures, and implement solutions such as adjusting bed temperature or using adhesion aids to prevent print warping or lifting.\"],\n",
        "  [\"What causes print layer alignment problems and how do I fix them?\", [\"layer_alignment_troubleshooting\", \"troubleshooting\", \"layer_alignment\"], \"Layer alignment problems can result from issues such as loose belts, incorrect stepper motor calibration, or software errors, so check and adjust printer mechanics and settings to ensure proper layer alignment.\"],\n",
        "  [\"How do I troubleshoot print cooling issues?\", [\"cooling_troubleshooting\", \"troubleshooting\", \"cooling\"], \"Identify potential issues such as blocked cooling ducts, inadequate fan speed, or improper cooling settings in the slicer, and address these factors to improve print cooling and quality.\"],\n",
        "  [\"What causes print artifacts like ghosting and how do I eliminate them?\", [\"artifacts_troubleshooting\", \"troubleshooting\", \"artifacts\"], \"Ghosting and other print artifacts can be caused by mechanical vibrations, high printing speeds, or inadequate cooling, so reduce print speeds, adjust acceleration settings, and optimize cooling to eliminate artifacts.\"],\n",
        "  [\"How do I troubleshoot print speed issues?\", [\"print_speed_troubleshooting\", \"troubleshooting\", \"print_speed\"], \"Identify potential issues such as mechanical constraints, software limitations, or slicer settings, and adjust settings or upgrade components as necessary to improve print speed and quality.\"],\n",
        "  [\"What causes filament diameter variations and how do I compensate for them?\", [\"filament_diameter_troubleshooting\", \"troubleshooting\", \"filament_diameter\"], \"Filament diameter variations can result from manufacturing inconsistencies or improper storage, so measure filament diameter regularly and adjust slicer settings like flow rate or extrusion multiplier to compensate for variations.\"],\n",
        "  [\"How do I troubleshoot print layer thickness issues?\", [\"layer_thickness_troubleshooting\", \"troubleshooting\", \"layer_thickness\"], \"Identify potential issues such as incorrect slicer settings, mechanical problems with the printer, or filament diameter inconsistencies, and adjust settings or calibrate the printer to achieve the desired layer thickness.\"],\n",
        "  [\"What causes print temperature fluctuations and how do I stabilize them?\", [\"temperature_fluctuations_troubleshooting\", \"troubleshooting\", \"temperature_fluctuations\"], \"Print temperature fluctuations can stem from factors such as inadequate cooling, inconsistent filament diameter, or power supply issues, so troubleshoot and address these areas to stabilize print temperatures.\"],\n",
        "  [\"How do I troubleshoot print bed leveling problems?\", [\"bed_leveling_troubleshooting\", \"troubleshooting\", \"bed_leveling\"], \"Identify potential issues such as uneven print bed, faulty bed leveling sensor, or mechanical problems with the printer, and recalibrate or adjust settings to ensure proper bed leveling for successful prints.\"],\n",
        "  [\"What causes print surface defects like pits or bumps and how do I fix them?\", [\"surface_defects_troubleshooting\", \"troubleshooting\", \"surface_defects\"], \"Surface defects can result from issues such as inconsistent extrusion, filament contamination, or inadequate cooling, so diagnose and address these factors to eliminate defects and improve print surface quality.\"],\n",
        "  [\"How do I troubleshoot print warping or lifting issues?\", [\"print_warping_troubleshooting\", \"troubleshooting\", \"print_warping\"], \"Investigate potential causes such as insufficient bed adhesion, improper cooling, or printing at excessive temperatures, and implement solutions such as adjusting bed temperature or using adhesion aids to prevent print warping or lifting.\"],\n",
        "  [\"What causes print layer alignment problems and how do I fix them?\", [\"print_layer_alignment_troubleshooting\", \"troubleshooting\", \"print_layer_alignment\"], \"Layer alignment problems can result from issues such as loose belts, incorrect stepper motor calibration, or software errors, so check and adjust printer mechanics and settings to ensure proper layer alignment.\"],\n",
        "  [\"How do I troubleshoot print cooling issues?\", [\"print_cooling_troubleshooting\", \"troubleshooting\", \"print_cooling\"], \"Identify potential issues such as blocked cooling ducts, inadequate fan speed, or improper cooling settings in the slicer, and address these factors to improve print cooling and quality.\"],\n",
        "  [\"What causes print artifacts like ghosting and how do I eliminate them?\", [\"print_artifacts_troubleshooting\", \"troubleshooting\", \"print_artifacts\"], \"Ghosting and other print artifacts can be caused by mechanical vibrations, high printing speeds, or inadequate cooling, so reduce print speeds, adjust acceleration settings, and optimize cooling to eliminate artifacts.\"],\n",
        "  [\"How do I troubleshoot print speed issues?\", [\"print_speed_troubleshooting\", \"troubleshooting\", \"print_speed\"], \"Identify potential issues such as mechanical constraints, software limitations, or slicer settings, and adjust settings or upgrade components as necessary to improve print speed and quality.\"],\n",
        "  [\"What causes filament diameter variations and how do I compensate for them?\", [\"print_filament_diameter_troubleshooting\", \"troubleshooting\", \"print_filament_diameter\"], \"Filament diameter variations can result from manufacturing inconsistencies or improper storage, so measure filament diameter regularly and adjust slicer settings like flow rate or extrusion multiplier to compensate for variations.\"],\n",
        "  [\"How do I troubleshoot print layer thickness issues?\", [\"print_layer_thickness_troubleshooting\", \"troubleshooting\", \"print_layer_thickness\"], \"Identify potential issues such as incorrect slicer settings, mechanical problems with the printer, or filament diameter inconsistencies, and adjust settings or calibrate the printer to achieve the desired layer thickness.\"],\n",
        "  [\"What causes print temperature fluctuations and how do I stabilize them?\", [\"print_temperature_fluctuations_troubleshooting\", \"troubleshooting\", \"print_temperature_fluctuations\"], \"Print temperature fluctuations can stem from factors such as inadequate cooling, inconsistent filament diameter, or power supply issues, so troubleshoot and address these areas to stabilize print temperatures.\"],\n",
        "  [\"How do I troubleshoot print bed leveling problems?\", [\"print_bed_leveling_troubleshooting\", \"troubleshooting\", \"print_bed_leveling\"], \"Identify potential issues such as uneven print bed, faulty bed leveling sensor, or mechanical problems with the printer, and recalibrate or adjust settings to ensure proper bed leveling for successful prints.\"],\n",
        "  [\"What causes print surface defects like pits or bumps and how do I fix them?\", [\"print_surface_defects_troubleshooting\", \"troubleshooting\", \"print_surface_defects\"], \"Surface defects can result from issues such as inconsistent extrusion, filament contamination, or inadequate cooling, so diagnose and address these factors to eliminate defects and improve print surface quality.\"],\n",
        "\n",
        "]\n",
        "print(f\"Number of entries: {len(my_questions)}\")"
      ]
    },
    {
      "cell_type": "code",
      "execution_count": 3,
      "metadata": {
        "id": "XStoDIBn8fKw"
      },
      "outputs": [],
      "source": [
        "def probability_score(user_input, to_compare):\n",
        "  #remove all special characers from input strings\n",
        "  pattern = r'[^a-zA-Z0-9\\s]'\n",
        "  user_input = re.sub(pattern, '', user_input)\n",
        "  to_compare = re.sub(pattern, '', to_compare)\n",
        "  #compute results\n",
        "  result = set(user_input.lower().split()).intersection(set(to_compare.lower().split()))\n",
        "  #print(f\"Len: {len(result)}\\tSet: {result}\")\n",
        "  #return score\n",
        "  return len(result)"
      ]
    },
    {
      "cell_type": "markdown",
      "source": [
        "# CELL BELOW IS JUST FOR TEST, CAN BE IGNORED."
      ],
      "metadata": {
        "id": "_YoJEXZGgE_6"
      }
    },
    {
      "cell_type": "code",
      "execution_count": 6,
      "metadata": {
        "colab": {
          "base_uri": "https://localhost:8080/"
        },
        "id": "boclflkR_ADR",
        "outputId": "2fbd01f1-0234-4c9a-cc2f-2ea26ca71ff6"
      },
      "outputs": [
        {
          "output_type": "stream",
          "name": "stdout",
          "text": [
            "You:\thello\n",
            "Initial possible answers positions: [0, 1, 2, 3, 4, 5, 6, 7, 8, 9, 10, 11, 12, 13, 14, 15, 16, 17, 18, 19, 20, 21, 22, 23, 24, 25, 26, 27, 28, 29, 30, 31, 32, 33, 34, 35, 36, 37, 38, 39, 40, 41, 42, 43, 44, 45, 46, 47, 48, 49, 50, 51, 52, 53, 54, 55, 56, 57, 58, 59, 60, 61, 62, 63, 64, 65, 66, 67, 68, 69, 70, 71, 72, 73, 74, 75, 76, 77, 78, 79, 80, 81, 82, 83, 84, 85, 86, 87, 88, 89, 90, 91, 92, 93, 94, 95, 96, 97, 98, 99, 100, 101, 102, 103, 104, 105, 106, 107, 108, 109, 110, 111, 112, 113, 114, 115, 116, 117, 118, 119, 120, 121, 122, 123, 124, 125, 126, 127, 128, 129, 130, 131, 132, 133, 134, 135, 136, 137, 138, 139, 140, 141, 142, 143, 144, 145, 146, 147, 148, 149, 150, 151, 152, 153, 154, 155, 156, 157, 158, 159, 160, 161, 162, 163, 164, 165, 166, 167]\tTotal number: 168\tMax scores:\t0\tFinal answer: 152 which is:\n",
            "\t['How do I troubleshoot print speed issues?', ['print_speed_troubleshooting', 'troubleshooting', 'print_speed'], 'Identify potential issues such as mechanical constraints, software limitations, or slicer settings, and adjust settings or upgrade components as necessary to improve print speed and quality.']\n"
          ]
        }
      ],
      "source": [
        "user_input = input(f\"You:\\t\")\n",
        "probablity_table = [0] * len(my_questions)\n",
        "for response_number in range(len(my_questions)):\n",
        "  probablity_table[response_number] = probability_score(user_input, my_questions[response_number][0])\n",
        "\n",
        "highest_probability = max(probablity_table)\n",
        "its_positions = [index for index, value in enumerate(probablity_table) if value == highest_probability]\n",
        "final_response = random.choice(its_positions)\n",
        "print(f\"Initial possible answers positions: {its_positions}\\tTotal number: {len(its_positions)}\\tMax scores:\\t{highest_probability}\\tFinal answer: {final_response} which is:\\n\\t{my_questions[final_response]}\")"
      ]
    },
    {
      "cell_type": "code",
      "execution_count": 7,
      "metadata": {
        "id": "T3YXFU8U9ets"
      },
      "outputs": [],
      "source": [
        "#hello phrases\n",
        "hello_phrases = ['Hello', 'hello world', 'Hello there', 'Hi','Hey','Good morning','Good afternoon','Good evening','How are you?',\"How's it going?\",\"What's up?\",'Greetings','Howdy','Hi there','Hey there','Nice to meet you','Pleased to meet you',\"What's new?\",'How have you been?','Long time no see','Good to see you','How do you do?']\n",
        "#hello_phrases = ['Hello', 'Hi','Hey','Good morning','Good afternoon','Good evening',\"What's up?\",'Greetings','Howdy','Hi there','Hey there','Nice to meet you','Pleased to meet you',\"What's new?\",'Long time no see','Good to see you']\n",
        "hello_phrases = [s.lower() for s in hello_phrases]\n",
        "\n",
        "#more phrases\n",
        "more_phrases = ['more', 'tell me more', 'provide more info',  'go on',  'Expand topic', 'Can you tell me more?',     'Could you elaborate on that?',     'What do you mean by that?',     'Can you explain that further?',     'Could you provide more details?',     'I’d like to hear more about that',     'Can you clarify?',     'What else can you tell me?',     'Can you expand on that?',     'Could you go into more detail?',     'Can you give me more information?',     'Can you provide an example?',     'What is the background on this?',     'Can you explain that in more detail?',     'Could you tell me more about that?',     'What’s the full story?',     'What more can you say about that?',     'Can you shed more light on this?',     'Could you give me some more insight?',     'Can you explain why?' ] #'more', 'tell', 'me', 'more', 'expand', 'provide', 'info']\n",
        "more_phrases = [s.lower() for s in more_phrases]\n",
        "\n",
        "#exit phrases\n",
        "exit_phrases = ['thanks', 'exit', 'q',   'Goodbye',    'Bye',    'See you later',    'Take care',    'Farewell',    'See you soon',    'Catch you later',    'Have a great day',    'Until next time',    'So long',    'See you around',    'Bye for now',    'All the best',    'Good night',    'Take it easy',    'Stay safe',    'Peace out',    'Have a good one',    'Later',    'I’m off']\n",
        "#exit_phrases = ['exit', 'q',   'Goodbye',    'Bye',    'See you later',    'Take care',    'Farewell',    'See you soon',    'Catch you later',  'Until next time',    'So long',    'See you around',    'Bye for now',    'All the best',    'Good night',    'Take it easy',    'Stay safe',    'Peace out',    'Later',    'I’m off']\n",
        "exit_phrases = [s.lower() for s in exit_phrases]\n",
        "\n",
        "#random facts\n",
        "random_phrases = [  'random', 'random fact', 'random message', 'random hint',  'tell me a random fact',    'tell me something interesting',    'give me a fun fact',    'tell me a fact',    'share a random fact',    'do you have an interesting fact',    'tell me a cool fact',    'tell me something cool',    'give me an interesting fact',    'share something interesting',    'whats an interesting fact',    'tell me a unique fact',  'do you know a random fact',    'tell me a surprising fact',    'give me a piece of trivia',    'share a piece of trivia',    'tell me trivia',    'share an interesting tidbit',    'tell me a tidbit of information',    'do you know any trivia',    'give me a fun trivia fact',    'tell me a fun piece of trivia',    'do you have any interesting facts',    'share a cool fact with me',    'tell me a fascinating fact',    'give me a fascinating piece of trivia',    'tell me something fascinating',    'tell me a little-known fact',    'share a little-known fact',    'tell me an amazing fact',    'give me an amazing fact',    'tell me a fun fact about technology',]\n",
        "random_phrases = [s.lower() for s in random_phrases]\n"
      ]
    },
    {
      "cell_type": "markdown",
      "source": [
        "## main()"
      ],
      "metadata": {
        "id": "eWTaPDr918wp"
      }
    },
    {
      "cell_type": "code",
      "source": [
        "print(\"Eliza:\\tELIZA 3D prints helpdesk bot v.beta\")\n",
        "first_q = False\n",
        "final_response = -1\n",
        "\n",
        "while True:\n",
        "  user_input = input(f\"You:\\t\")\n",
        "  #get rid of all special characters, and make it lowercase\n",
        "  pattern = r'[^a-zA-Z0-9\\s]'\n",
        "  user_input = re.sub(pattern, '', user_input).lower()\n",
        "\n",
        "\n",
        "  if user_input in hello_phrases:\n",
        "    print(f\"Eliza:\\tHello there! How can I help you today?\")\n",
        "\n",
        "\n",
        "  elif user_input in more_phrases:\n",
        "    if first_q == False:\n",
        "      print(\"Eliza:\\tSorry, in what topic would you like more assistance?\")\n",
        "    else:\n",
        "      print(f\"Eliza:\\tCertainly! {my_questions[final_response][3]}\")\n",
        "\n",
        "\n",
        "  elif user_input in random_phrases:\n",
        "    random_message = random.choice(range(0,len(my_questions)))\n",
        "    print(f\"Eliza:\\t{my_questions[random_message][2]}\")\n",
        "\n",
        "\n",
        "  elif user_input in exit_phrases:\n",
        "    print(f\"Eliza:\\tGoodbye, have a nice day ;)\")\n",
        "    break;\n",
        "\n",
        "\n",
        "  else:\n",
        "    first_q = True\n",
        "    probablity_table = [0] * len(my_questions)\n",
        "    for response_number in range(len(my_questions)):\n",
        "      probablity_table[response_number] = probability_score(user_input, my_questions[response_number][0])\n",
        "\n",
        "    highest_probability = max(probablity_table)\n",
        "    its_positions = [index for index, value in enumerate(probablity_table) if value == highest_probability]\n",
        "    final_response = random.choice(its_positions)\n",
        "    #print(f\"Initial possible answers positions: {its_positions}\\tTotal number: {len(its_positions)}\\tMax scores:\\t{highest_probability}\\tFinal answer: {final_response} which is:\\n\\t{my_questions[final_response]}\")\n",
        "    print(f\"Eliza:\\t{my_questions[final_response][2]}\")\n",
        "\n",
        "\n"
      ],
      "metadata": {
        "colab": {
          "base_uri": "https://localhost:8080/"
        },
        "id": "s3B8Y4OJ17Z7",
        "outputId": "fff6c1f7-10c4-4c4e-d9a9-ff1557ba52e2"
      },
      "execution_count": 8,
      "outputs": [
        {
          "output_type": "stream",
          "name": "stdout",
          "text": [
            "Eliza:\tELIZA 3D prints helpdesk bot v.beta\n",
            "You:\thello\n",
            "Eliza:\tHello there! How can I help you today?\n",
            "You:\ttell me a random fact\n",
            "Eliza:\tInadequate adhesion or bed leveling may cause lifting, ensure clean and leveled bed.\n",
            "You:\texit\n",
            "Eliza:\tGoodbye, have a nice day ;)\n"
          ]
        }
      ]
    },
    {
      "cell_type": "markdown",
      "metadata": {
        "id": "mpIk_fwcUjc0"
      },
      "source": [
        "# Sources\n",
        "[1] https://stackoverflow.com/questions/25977673/find-matching-phrases-and-words-in-a-string-python\n",
        "\n",
        "[2] https://www.youtube.com/watch?v=9mD_MM5MQSY\n",
        "\n",
        "[3] https://stackoverflow.com/questions/25977673/find-matching-phrases-and-words-in-a-string-python\n",
        "\n",
        "[4] https://en.wikipedia.org/wiki/ELIZA\n",
        "\n",
        "[5] https://github.com/rdimaio/eliza-py?tab=readme-ov-file#elizapy\n"
      ]
    },
    {
      "cell_type": "markdown",
      "source": [
        "# EVERYTHING BELOW IS PREVIOUS TRIES OF ACHIEVEING THE GOAL, FOR ARCHIVING PURPOSES ONLY.\n"
      ],
      "metadata": {
        "id": "YjkK_SkA15QL"
      }
    },
    {
      "cell_type": "code",
      "source": [
        "# decide if given input matches some predefined provided string from database\n",
        "def key_phrases_decider(input_string, compare_string, n = 1):\n",
        "  n = n\n",
        "  ngrams1= ngrams(input_string.split(\" \"), n)\n",
        "  ngrams2= ngrams(compare_string.split(\" \"), n)\n",
        "\n",
        "  counter= Counter(chain(ngrams1,ngrams2))       #count occurrences of each n-gram\n",
        "  result = [k[0] for k,v in counter.items() if v>1]\n",
        "  print (f\"Commons: {result}\", end = ' ') if result else print('', end='') #print all ngrams that come up more than once\n",
        "  return(len(result))\n",
        "#key_phrases_decider(\"yes no\", \"no\", n = 1)\n",
        "\n",
        "\n",
        "#check given string acress all phrases from all dictionaries\n",
        "#see which of three options is the best ( hello, more, exit _phrases)\n",
        "def possibility_ranges_new(input_string):\n",
        "  '''Returns predictions sum of each predefined string from hello,more,exit in format [0,0,0]'''\n",
        "\n",
        "  results = [0,0,0] #[hello, more, exit] scores\n",
        "  for test_string in hello_phrases:\n",
        "    results[0] += key_phrases_decider(input_string, test_string)\n",
        "  print('', end='')\n",
        "  for test_string in more_phrases:\n",
        "    results[1] += key_phrases_decider(input_string, test_string)\n",
        "  print('', end='')\n",
        "  for test_string in exit_phrases:\n",
        "    results[2] += key_phrases_decider(input_string, test_string)\n",
        "  print('', end='')\n",
        "\n",
        "  return results\n"
      ],
      "metadata": {
        "id": "2RyhNpHU3-0j"
      },
      "execution_count": null,
      "outputs": []
    },
    {
      "cell_type": "code",
      "source": [
        "def possibility_ranges_beast(input_string):\n",
        "  '''Returns predictions sum of each predefined string for all of the predefined responses/actions'''\n",
        "  database = my_questions.append([hello_phrases)\n",
        "  results = [0,0,0] #[hello, more, exit] scores\n",
        "  for test_string in hello_phrases:\n",
        "    results[0] += key_phrases_decider(input_string, test_string)\n",
        "  print('', end='')\n",
        "  for test_string in more_phrases:\n",
        "    results[1] += key_phrases_decider(input_string, test_string)\n",
        "  print('', end='')\n",
        "  for test_string in exit_phrases:\n",
        "    results[2] += key_phrases_decider(input_string, test_string)\n",
        "  print('', end='')\n",
        "\n",
        "  return results"
      ],
      "metadata": {
        "id": "B48AA36sn3-J"
      },
      "execution_count": null,
      "outputs": []
    },
    {
      "cell_type": "code",
      "source": [
        "possibility_ranges_new(\"How much does 3d printing cost?\".lower())"
      ],
      "metadata": {
        "colab": {
          "base_uri": "https://localhost:8080/"
        },
        "id": "THhzGLMf-khg",
        "outputId": "bf434f3e-b652-4faf-d2c4-2911d563f440"
      },
      "execution_count": null,
      "outputs": [
        {
          "output_type": "stream",
          "name": "stdout",
          "text": [
            "Commons: ['how'] Commons: ['how'] Commons: ['how'] "
          ]
        },
        {
          "output_type": "execute_result",
          "data": {
            "text/plain": [
              "[3, 0, 0]"
            ]
          },
          "metadata": {},
          "execution_count": 9
        }
      ]
    },
    {
      "cell_type": "markdown",
      "metadata": {
        "id": "AC9wiBwii5lg"
      },
      "source": [
        "# Main()"
      ]
    },
    {
      "cell_type": "code",
      "execution_count": null,
      "metadata": {
        "id": "eKsqHEnVDebW"
      },
      "outputs": [],
      "source": [
        "def eliza_answers(user_input):\n",
        "\n",
        "  #calculate probability for every answer in database\n",
        "  probablity_table = [0] * len(my_questions)\n",
        "  for response_number in range(len(my_questions)):\n",
        "    probablity_table[response_number] = probability_score(user_input, my_questions[response_number][0])\n",
        "\n",
        "  #find most likely answer from possibility table\n",
        "  highest_probability = max(probablity_table)\n",
        "  its_positions = [index for index, value in enumerate(probablity_table) if value == highest_probability]\n",
        "  print(f\"Initial possible answers positions: {its_positions}\\tlength: {len(its_positions)}\\tScores:\\t{highest_probability}\")\n",
        "\n",
        "  if len(its_positions) > 1:\n",
        "    return int( its_positions[random(len(its_positions))] )\n",
        "  else:\n",
        "    return int( its_positions )\n",
        "\n",
        "  #i guess obsolete\n",
        "  #check if two or more scores are not the same\n",
        "  n = 1\n",
        "  #its_positions = [1,2,3], we want one result, not many.\n",
        "  while len(its_positions) > 1:\n",
        "    # its_positions = its_positions[random(len(its_positions))] # <- super simple yet effective solution?\n",
        "    multiple_possibilities = [0]*len(its_positions)\n",
        "    n = n+1\n",
        "    for count,option in enumerate(its_positions):\n",
        "      ngrams1= ngrams(user_input.split(\" \"), n)\n",
        "      ngrams2= ngrams(my_questions[option][2].split(\" \"), n)\n",
        "      counter= Counter(chain(ngrams1,ngrams2))       #count occurrences of each n-gram\n",
        "      print(len([k[0] for k,v in counter.items() if v>1]))\n",
        "\n",
        "      multiple_possibilities[count] = len([k[0] for k,v in counter.items() if v>1]) #print all ngrams that come up more than once\n",
        "\n",
        "    highest_probability_temp = max(multiple_possibilities)\n",
        "    its_positions = [index for index, value in enumerate(multiple_possibilities) if value == highest_probability_temp]\n",
        "    print(f\"Position:\\t {its_positions}end while, for now\")\n",
        "\n",
        "    if n > 5:\n",
        "      return(-1) #error code for no response\n",
        "\n",
        "  else:\n",
        "    its_positions = int(its_positions[0])\n",
        "\n",
        "  #return highest-scored response\n",
        "  return its_positions\n"
      ]
    },
    {
      "cell_type": "code",
      "source": [
        "def eliza_answers_key_phrases(user_input):\n",
        "  #calculate probability for every answer in database\n",
        "  probablity_table = [0] * 3\n",
        "  totals =  [ hello_phrases, more_phrases, exit_phrases ]\n",
        "  for response_number in range(3):\n",
        "    probablity_table[response_number] = probability_score(user_input, totals[response_number])\n",
        "\n",
        "\n",
        "  return probablity_table\n",
        "\n",
        "  #find most likely answer from possibility table\n",
        "  highest_probability = max(probablity_table)\n",
        "  its_positions = [index for index, value in enumerate(probablity_table) if value == highest_probability]\n",
        "  print(f\"Initial possible answers positions: {its_positions}\\tlength: {len(its_positions)}\\tScores:\\t{highest_probability}\")\n",
        "\n",
        "  if len(its_positions) > 1:\n",
        "    return int( its_positions[random(len(its_positions))] )\n",
        "  else:\n",
        "    return int( its_positions )\n",
        "\n"
      ],
      "metadata": {
        "id": "CxRjBRMtuLCA"
      },
      "execution_count": null,
      "outputs": []
    },
    {
      "cell_type": "code",
      "source": [
        "### new main\n",
        "\n",
        "print(\"Eliza:\\tELIZA 3D prints helpdesk bot v.beta\")\n",
        "first_q = False\n",
        "\n",
        "while True:\n",
        "  user_input = input(f\"You:\\t\")\n",
        "  #get rid of all special characters, and make it lowercase\n",
        "  pattern = r'[^a-zA-Z0-9\\s]'\n",
        "  user_input = re.sub(pattern, '', user_input).lower()\n",
        "  print(user_input)\n",
        "  next_step = eliza_answers_key_phrases(str(user_input)) # eg. [3,0,0]\n",
        "  positions = [index for index, value in enumerate(next_step) if value == max(next_step)]\n",
        "  print(f\"Result of hello,more,exit: {next_step}'\\tIt's sum: {sum(next_step)}\\tMax: {max(next_step)}\\tPositions: {positions}\")\n",
        "\n",
        "  if len(positions)>1:\n",
        "    positions = random.choice(positions)\n",
        "  else:\n",
        "    positions = positions[0]\n",
        "\n",
        "  if sum(next_step) == 0:\n",
        "    #assume user want to ask another question\n",
        "    position_of_answer = eliza_answers(user_input)\n",
        "    if position_of_answer == -1:\n",
        "      print(\"Eliza:\\tSorry, I did not get it ;/ Can you rephrase?\")\n",
        "    else:\n",
        "      print(f\"Eliza:\\t{my_questions[position_of_answer][2]}\")\n",
        "    first_q = True\n",
        "\n",
        "\n",
        "  elif positions == 0: # Check if user says 'Hi'\n",
        "    print(f\"Eliza:\\tHello there! How can I help you today?\")\n",
        "\n",
        "\n",
        "  elif positions == 1: #check if user want to know more\n",
        "    if first_q == False:\n",
        "      print(\"Eliza:\\tSorry, in what topic would you like more assistance?\")\n",
        "    else:\n",
        "      print(f\"Eliza:\\tCertainly! {my_questions[position_of_answer][3]}\")\n",
        "\n",
        "\n",
        "  elif positions == 2: #check if user is gonna leave\n",
        "    print(f\"Eliza:\\tGoodbye, have a nice day ;)\")\n",
        "    break;\n",
        "\n",
        "  else:\n",
        "    print(\"Eliza:\\tCritical server error which cannot be handled. Something went critically wrong!\\nEliza:\\tSorry for that.\\nEliza:\\tPlease restart.\")\n",
        "    break;\n"
      ],
      "metadata": {
        "colab": {
          "base_uri": "https://localhost:8080/",
          "height": 426
        },
        "id": "GXZhRyd0t4eG",
        "outputId": "6bb7f918-9078-4a1e-b81a-9295837d2554"
      },
      "execution_count": null,
      "outputs": [
        {
          "output_type": "stream",
          "name": "stdout",
          "text": [
            "Eliza:\tELIZA 3D prints helpdesk bot v.beta\n",
            "You:\t12\n",
            "12\n"
          ]
        },
        {
          "output_type": "error",
          "ename": "TypeError",
          "evalue": "expected string or bytes-like object",
          "traceback": [
            "\u001b[0;31m---------------------------------------------------------------------------\u001b[0m",
            "\u001b[0;31mTypeError\u001b[0m                                 Traceback (most recent call last)",
            "\u001b[0;32m<ipython-input-39-4471f09def3c>\u001b[0m in \u001b[0;36m<cell line: 6>\u001b[0;34m()\u001b[0m\n\u001b[1;32m     10\u001b[0m   \u001b[0muser_input\u001b[0m \u001b[0;34m=\u001b[0m \u001b[0mre\u001b[0m\u001b[0;34m.\u001b[0m\u001b[0msub\u001b[0m\u001b[0;34m(\u001b[0m\u001b[0mpattern\u001b[0m\u001b[0;34m,\u001b[0m \u001b[0;34m''\u001b[0m\u001b[0;34m,\u001b[0m \u001b[0muser_input\u001b[0m\u001b[0;34m)\u001b[0m\u001b[0;34m.\u001b[0m\u001b[0mlower\u001b[0m\u001b[0;34m(\u001b[0m\u001b[0;34m)\u001b[0m\u001b[0;34m\u001b[0m\u001b[0;34m\u001b[0m\u001b[0m\n\u001b[1;32m     11\u001b[0m   \u001b[0mprint\u001b[0m\u001b[0;34m(\u001b[0m\u001b[0muser_input\u001b[0m\u001b[0;34m)\u001b[0m\u001b[0;34m\u001b[0m\u001b[0;34m\u001b[0m\u001b[0m\n\u001b[0;32m---> 12\u001b[0;31m   \u001b[0mnext_step\u001b[0m \u001b[0;34m=\u001b[0m \u001b[0meliza_answers_key_phrases\u001b[0m\u001b[0;34m(\u001b[0m\u001b[0mstr\u001b[0m\u001b[0;34m(\u001b[0m\u001b[0muser_input\u001b[0m\u001b[0;34m)\u001b[0m\u001b[0;34m)\u001b[0m \u001b[0;31m# eg. [3,0,0]\u001b[0m\u001b[0;34m\u001b[0m\u001b[0;34m\u001b[0m\u001b[0m\n\u001b[0m\u001b[1;32m     13\u001b[0m   \u001b[0mpositions\u001b[0m \u001b[0;34m=\u001b[0m \u001b[0;34m[\u001b[0m\u001b[0mindex\u001b[0m \u001b[0;32mfor\u001b[0m \u001b[0mindex\u001b[0m\u001b[0;34m,\u001b[0m \u001b[0mvalue\u001b[0m \u001b[0;32min\u001b[0m \u001b[0menumerate\u001b[0m\u001b[0;34m(\u001b[0m\u001b[0mnext_step\u001b[0m\u001b[0;34m)\u001b[0m \u001b[0;32mif\u001b[0m \u001b[0mvalue\u001b[0m \u001b[0;34m==\u001b[0m \u001b[0mmax\u001b[0m\u001b[0;34m(\u001b[0m\u001b[0mnext_step\u001b[0m\u001b[0;34m)\u001b[0m\u001b[0;34m]\u001b[0m\u001b[0;34m\u001b[0m\u001b[0;34m\u001b[0m\u001b[0m\n\u001b[1;32m     14\u001b[0m   \u001b[0mprint\u001b[0m\u001b[0;34m(\u001b[0m\u001b[0;34mf\"Result of hello,more,exit: {next_step}'\\tIt's sum: {sum(next_step)}\\tMax: {max(next_step)}\\tPositions: {positions}\"\u001b[0m\u001b[0;34m)\u001b[0m\u001b[0;34m\u001b[0m\u001b[0;34m\u001b[0m\u001b[0m\n",
            "\u001b[0;32m<ipython-input-29-0a5e658ed7c5>\u001b[0m in \u001b[0;36meliza_answers_key_phrases\u001b[0;34m(user_input)\u001b[0m\n\u001b[1;32m      4\u001b[0m   \u001b[0mtotals\u001b[0m \u001b[0;34m=\u001b[0m  \u001b[0;34m[\u001b[0m \u001b[0mhello_phrases\u001b[0m\u001b[0;34m,\u001b[0m \u001b[0mmore_phrases\u001b[0m\u001b[0;34m,\u001b[0m \u001b[0mexit_phrases\u001b[0m \u001b[0;34m]\u001b[0m\u001b[0;34m\u001b[0m\u001b[0;34m\u001b[0m\u001b[0m\n\u001b[1;32m      5\u001b[0m   \u001b[0;32mfor\u001b[0m \u001b[0mresponse_number\u001b[0m \u001b[0;32min\u001b[0m \u001b[0mrange\u001b[0m\u001b[0;34m(\u001b[0m\u001b[0;36m3\u001b[0m\u001b[0;34m)\u001b[0m\u001b[0;34m:\u001b[0m\u001b[0;34m\u001b[0m\u001b[0;34m\u001b[0m\u001b[0m\n\u001b[0;32m----> 6\u001b[0;31m     \u001b[0mprobablity_table\u001b[0m\u001b[0;34m[\u001b[0m\u001b[0mresponse_number\u001b[0m\u001b[0;34m]\u001b[0m \u001b[0;34m=\u001b[0m \u001b[0mprobability_score\u001b[0m\u001b[0;34m(\u001b[0m\u001b[0muser_input\u001b[0m\u001b[0;34m,\u001b[0m \u001b[0mtotals\u001b[0m\u001b[0;34m[\u001b[0m\u001b[0mresponse_number\u001b[0m\u001b[0;34m]\u001b[0m\u001b[0;34m)\u001b[0m\u001b[0;34m\u001b[0m\u001b[0;34m\u001b[0m\u001b[0m\n\u001b[0m\u001b[1;32m      7\u001b[0m \u001b[0;34m\u001b[0m\u001b[0m\n\u001b[1;32m      8\u001b[0m \u001b[0;34m\u001b[0m\u001b[0m\n",
            "\u001b[0;32m<ipython-input-3-9433efd93efd>\u001b[0m in \u001b[0;36mprobability_score\u001b[0;34m(user_input, to_compare)\u001b[0m\n\u001b[1;32m      3\u001b[0m   \u001b[0mpattern\u001b[0m \u001b[0;34m=\u001b[0m \u001b[0;34mr'[^a-zA-Z0-9\\s]'\u001b[0m\u001b[0;34m\u001b[0m\u001b[0;34m\u001b[0m\u001b[0m\n\u001b[1;32m      4\u001b[0m   \u001b[0muser_input\u001b[0m \u001b[0;34m=\u001b[0m \u001b[0mre\u001b[0m\u001b[0;34m.\u001b[0m\u001b[0msub\u001b[0m\u001b[0;34m(\u001b[0m\u001b[0mpattern\u001b[0m\u001b[0;34m,\u001b[0m \u001b[0;34m''\u001b[0m\u001b[0;34m,\u001b[0m \u001b[0muser_input\u001b[0m\u001b[0;34m)\u001b[0m\u001b[0;34m\u001b[0m\u001b[0;34m\u001b[0m\u001b[0m\n\u001b[0;32m----> 5\u001b[0;31m   \u001b[0mto_compare\u001b[0m \u001b[0;34m=\u001b[0m \u001b[0mre\u001b[0m\u001b[0;34m.\u001b[0m\u001b[0msub\u001b[0m\u001b[0;34m(\u001b[0m\u001b[0mpattern\u001b[0m\u001b[0;34m,\u001b[0m \u001b[0;34m''\u001b[0m\u001b[0;34m,\u001b[0m \u001b[0mto_compare\u001b[0m\u001b[0;34m)\u001b[0m\u001b[0;34m\u001b[0m\u001b[0;34m\u001b[0m\u001b[0m\n\u001b[0m\u001b[1;32m      6\u001b[0m   \u001b[0;31m#compute results\u001b[0m\u001b[0;34m\u001b[0m\u001b[0;34m\u001b[0m\u001b[0m\n\u001b[1;32m      7\u001b[0m   \u001b[0mresult\u001b[0m \u001b[0;34m=\u001b[0m \u001b[0mset\u001b[0m\u001b[0;34m(\u001b[0m\u001b[0muser_input\u001b[0m\u001b[0;34m.\u001b[0m\u001b[0mlower\u001b[0m\u001b[0;34m(\u001b[0m\u001b[0;34m)\u001b[0m\u001b[0;34m.\u001b[0m\u001b[0msplit\u001b[0m\u001b[0;34m(\u001b[0m\u001b[0;34m)\u001b[0m\u001b[0;34m)\u001b[0m\u001b[0;34m.\u001b[0m\u001b[0mintersection\u001b[0m\u001b[0;34m(\u001b[0m\u001b[0mset\u001b[0m\u001b[0;34m(\u001b[0m\u001b[0mto_compare\u001b[0m\u001b[0;34m.\u001b[0m\u001b[0mlower\u001b[0m\u001b[0;34m(\u001b[0m\u001b[0;34m)\u001b[0m\u001b[0;34m.\u001b[0m\u001b[0msplit\u001b[0m\u001b[0;34m(\u001b[0m\u001b[0;34m)\u001b[0m\u001b[0;34m)\u001b[0m\u001b[0;34m)\u001b[0m\u001b[0;34m\u001b[0m\u001b[0;34m\u001b[0m\u001b[0m\n",
            "\u001b[0;32m/usr/lib/python3.10/re.py\u001b[0m in \u001b[0;36msub\u001b[0;34m(pattern, repl, string, count, flags)\u001b[0m\n\u001b[1;32m    207\u001b[0m     \u001b[0ma\u001b[0m \u001b[0mcallable\u001b[0m\u001b[0;34m,\u001b[0m \u001b[0mit\u001b[0m\u001b[0;31m'\u001b[0m\u001b[0ms\u001b[0m \u001b[0mpassed\u001b[0m \u001b[0mthe\u001b[0m \u001b[0mMatch\u001b[0m \u001b[0mobject\u001b[0m \u001b[0;32mand\u001b[0m \u001b[0mmust\u001b[0m \u001b[0;32mreturn\u001b[0m\u001b[0;34m\u001b[0m\u001b[0;34m\u001b[0m\u001b[0m\n\u001b[1;32m    208\u001b[0m     a replacement string to be used.\"\"\"\n\u001b[0;32m--> 209\u001b[0;31m     \u001b[0;32mreturn\u001b[0m \u001b[0m_compile\u001b[0m\u001b[0;34m(\u001b[0m\u001b[0mpattern\u001b[0m\u001b[0;34m,\u001b[0m \u001b[0mflags\u001b[0m\u001b[0;34m)\u001b[0m\u001b[0;34m.\u001b[0m\u001b[0msub\u001b[0m\u001b[0;34m(\u001b[0m\u001b[0mrepl\u001b[0m\u001b[0;34m,\u001b[0m \u001b[0mstring\u001b[0m\u001b[0;34m,\u001b[0m \u001b[0mcount\u001b[0m\u001b[0;34m)\u001b[0m\u001b[0;34m\u001b[0m\u001b[0;34m\u001b[0m\u001b[0m\n\u001b[0m\u001b[1;32m    210\u001b[0m \u001b[0;34m\u001b[0m\u001b[0m\n\u001b[1;32m    211\u001b[0m \u001b[0;32mdef\u001b[0m \u001b[0msubn\u001b[0m\u001b[0;34m(\u001b[0m\u001b[0mpattern\u001b[0m\u001b[0;34m,\u001b[0m \u001b[0mrepl\u001b[0m\u001b[0;34m,\u001b[0m \u001b[0mstring\u001b[0m\u001b[0;34m,\u001b[0m \u001b[0mcount\u001b[0m\u001b[0;34m=\u001b[0m\u001b[0;36m0\u001b[0m\u001b[0;34m,\u001b[0m \u001b[0mflags\u001b[0m\u001b[0;34m=\u001b[0m\u001b[0;36m0\u001b[0m\u001b[0;34m)\u001b[0m\u001b[0;34m:\u001b[0m\u001b[0;34m\u001b[0m\u001b[0;34m\u001b[0m\u001b[0m\n",
            "\u001b[0;31mTypeError\u001b[0m: expected string or bytes-like object"
          ]
        }
      ]
    },
    {
      "cell_type": "code",
      "source": [
        "def eliza_answers_key_phrase2s(user_input):\n",
        "  #calculate probability for every answer in database\n",
        "  probablity_table = [0] * 3\n",
        "  totals =  [ hello_phrases, more_phrases, exit_phrases ]\n",
        "  print(totals[0])\n",
        "  print(totals[1])\n",
        "  print(totals[2])\n",
        "  for response_number in range(3):\n",
        "    for response_number_number in range(len(totals[response_number])):\n",
        "      probablity_table[response_number] += probability_score(user_input, totals[response_number][response_number_number])\n",
        "    probablity_table[response_number] = probablity_table[response_number]/len(totals[response_number])\n",
        "\n",
        "  return probablity_table\n",
        "\n",
        "  #find most likely answer from possibility table\n",
        "  highest_probability = max(probablity_table)\n",
        "  its_positions = [index for index, value in enumerate(probablity_table) if value == highest_probability]\n",
        "  print(f\"Initial possible answers positions: {its_positions}\\tlength: {len(its_positions)}\\tScores:\\t{highest_probability}\")\n",
        "\n",
        "  if len(its_positions) > 1:\n",
        "    return int( its_positions[random(len(its_positions))] )\n",
        "  else:\n",
        "    return int( its_positions )\n",
        "\n",
        "s = 'more'\n",
        "eliza_answers_key_phrase2s(str(s))"
      ],
      "metadata": {
        "colab": {
          "base_uri": "https://localhost:8080/"
        },
        "id": "CImrHLgaw5vp",
        "outputId": "b4859795-1fc4-493c-ee7e-40e1ab987da5"
      },
      "execution_count": null,
      "outputs": [
        {
          "output_type": "stream",
          "name": "stdout",
          "text": [
            "['hello', 'hi', 'hey', 'good morning', 'good afternoon', 'good evening', \"what's up?\", 'greetings', 'howdy', 'hi there', 'hey there', 'nice to meet you', 'pleased to meet you', \"what's new?\", 'long time no see', 'good to see you']\n",
            "['tell me more', 'provide more info', 'go on', 'can you tell me more?', 'could you elaborate on that?', 'what do you mean by that?', 'can you explain that further?', 'could you provide more details?', 'i’d like to hear more about that', 'can you clarify?', 'what else can you tell me?', 'can you expand on that?', 'could you go into more detail?', 'can you give me more information?', 'can you provide an example?', 'what is the background on this?', 'can you explain that in more detail?', 'could you tell me more about that?', 'what’s the full story?', 'what more can you say about that?', 'can you shed more light on this?', 'could you give me some more insight?', 'can you explain why?']\n",
            "['exit', 'q', 'goodbye', 'bye', 'see you later', 'take care', 'farewell', 'see you soon', 'catch you later', 'until next time', 'so long', 'see you around', 'bye for now', 'all the best', 'good night', 'take it easy', 'stay safe', 'peace out', 'later', 'i’m off']\n"
          ]
        },
        {
          "output_type": "execute_result",
          "data": {
            "text/plain": [
              "[0.0, 0.5217391304347826, 0.0]"
            ]
          },
          "metadata": {},
          "execution_count": 47
        }
      ]
    },
    {
      "cell_type": "code",
      "execution_count": null,
      "metadata": {
        "colab": {
          "base_uri": "https://localhost:8080/",
          "height": 421
        },
        "id": "x687T3Tj0JzF",
        "outputId": "e128c0f1-5644-45c3-9784-878eeabfbe0f"
      },
      "outputs": [
        {
          "output_type": "stream",
          "name": "stdout",
          "text": [
            "Eliza:\tELIZA 3D prints helpdesk bot v.beta\n",
            "You:\textruder\n",
            "Result of hello,more,exit: [0, 0, 0]'\tIt's sum: 0\tMax: 0\tPositions: [0, 1, 2]\n",
            "Initial possible answers positions: [14, 15, 16, 17, 26, 56, 57, 58, 59, 68]\tlength: 10\tScores:\t1\n"
          ]
        },
        {
          "output_type": "error",
          "ename": "TypeError",
          "evalue": "'module' object is not callable",
          "traceback": [
            "\u001b[0;31m---------------------------------------------------------------------------\u001b[0m",
            "\u001b[0;31mTypeError\u001b[0m                                 Traceback (most recent call last)",
            "\u001b[0;32m<ipython-input-23-5520a946ec47>\u001b[0m in \u001b[0;36m<cell line: 5>\u001b[0;34m()\u001b[0m\n\u001b[1;32m     21\u001b[0m   \u001b[0;32mif\u001b[0m \u001b[0msum\u001b[0m\u001b[0;34m(\u001b[0m\u001b[0mnext_step\u001b[0m\u001b[0;34m)\u001b[0m \u001b[0;34m==\u001b[0m \u001b[0;36m0\u001b[0m\u001b[0;34m:\u001b[0m\u001b[0;34m\u001b[0m\u001b[0;34m\u001b[0m\u001b[0m\n\u001b[1;32m     22\u001b[0m     \u001b[0;31m#assume user want to ask another question\u001b[0m\u001b[0;34m\u001b[0m\u001b[0;34m\u001b[0m\u001b[0m\n\u001b[0;32m---> 23\u001b[0;31m     \u001b[0mposition_of_answer\u001b[0m \u001b[0;34m=\u001b[0m \u001b[0meliza_answers\u001b[0m\u001b[0;34m(\u001b[0m\u001b[0muser_input\u001b[0m\u001b[0;34m)\u001b[0m\u001b[0;34m\u001b[0m\u001b[0;34m\u001b[0m\u001b[0m\n\u001b[0m\u001b[1;32m     24\u001b[0m     \u001b[0;32mif\u001b[0m \u001b[0mposition_of_answer\u001b[0m \u001b[0;34m==\u001b[0m \u001b[0;34m-\u001b[0m\u001b[0;36m1\u001b[0m\u001b[0;34m:\u001b[0m\u001b[0;34m\u001b[0m\u001b[0;34m\u001b[0m\u001b[0m\n\u001b[1;32m     25\u001b[0m       \u001b[0mprint\u001b[0m\u001b[0;34m(\u001b[0m\u001b[0;34m\"Eliza:\\tSorry, I did not get it ;/ Can you rephrase?\"\u001b[0m\u001b[0;34m)\u001b[0m\u001b[0;34m\u001b[0m\u001b[0;34m\u001b[0m\u001b[0m\n",
            "\u001b[0;32m<ipython-input-22-08a5d52f6617>\u001b[0m in \u001b[0;36meliza_answers\u001b[0;34m(user_input)\u001b[0m\n\u001b[1;32m     12\u001b[0m \u001b[0;34m\u001b[0m\u001b[0m\n\u001b[1;32m     13\u001b[0m   \u001b[0;32mif\u001b[0m \u001b[0mlen\u001b[0m\u001b[0;34m(\u001b[0m\u001b[0mits_positions\u001b[0m\u001b[0;34m)\u001b[0m \u001b[0;34m>\u001b[0m \u001b[0;36m1\u001b[0m\u001b[0;34m:\u001b[0m\u001b[0;34m\u001b[0m\u001b[0;34m\u001b[0m\u001b[0m\n\u001b[0;32m---> 14\u001b[0;31m     \u001b[0;32mreturn\u001b[0m \u001b[0mits_positions\u001b[0m\u001b[0;34m[\u001b[0m\u001b[0mrandom\u001b[0m\u001b[0;34m(\u001b[0m\u001b[0mlen\u001b[0m\u001b[0;34m(\u001b[0m\u001b[0mits_positions\u001b[0m\u001b[0;34m)\u001b[0m\u001b[0;34m)\u001b[0m\u001b[0;34m]\u001b[0m\u001b[0;34m\u001b[0m\u001b[0;34m\u001b[0m\u001b[0m\n\u001b[0m\u001b[1;32m     15\u001b[0m   \u001b[0;32melse\u001b[0m\u001b[0;34m:\u001b[0m\u001b[0;34m\u001b[0m\u001b[0;34m\u001b[0m\u001b[0m\n\u001b[1;32m     16\u001b[0m     \u001b[0;32mreturn\u001b[0m \u001b[0mits_positions\u001b[0m\u001b[0;34m\u001b[0m\u001b[0;34m\u001b[0m\u001b[0m\n",
            "\u001b[0;31mTypeError\u001b[0m: 'module' object is not callable"
          ]
        }
      ],
      "source": [
        "print(\"Eliza:\\tELIZA 3D prints helpdesk bot v.beta\")\n",
        "first_q = False\n",
        "hello_trig = False\n",
        "\n",
        "while True:\n",
        "  user_input = input(f\"You:\\t\")\n",
        "\n",
        "  #get rid of all special characters, and make it lowercase\n",
        "  pattern = r'[^a-zA-Z0-9\\s]'\n",
        "  user_input = re.sub(pattern, '', user_input).lower()\n",
        "\n",
        "  next_step = possibility_ranges_new(user_input) # eg. [3,0,0]\n",
        "  positions = [index for index, value in enumerate(next_step) if value == max(next_step)]\n",
        "  print(f\"Result of hello,more,exit: {next_step}'\\tIt's sum: {sum(next_step)}\\tMax: {max(next_step)}\\tPositions: {positions}\")\n",
        "\n",
        "  if len(positions)>1:\n",
        "    positions = random.choice(positions)\n",
        "  else:\n",
        "    positions = positions[0]\n",
        "\n",
        "  if sum(next_step) == 0:\n",
        "    #assume user want to ask another question\n",
        "    position_of_answer = eliza_answers(user_input)\n",
        "    if position_of_answer == -1:\n",
        "      print(\"Eliza:\\tSorry, I did not get it ;/ Can you rephrase?\")\n",
        "    else:\n",
        "      print(f\"Eliza:\\t{my_questions[position_of_answer][2]}\")\n",
        "    first_q = True\n",
        "\n",
        "\n",
        "  elif positions == 0: # Check if user says 'Hi'\n",
        "    print(f\"Eliza:\\tHello there! How can I help you today?\")\n",
        "\n",
        "\n",
        "  elif positions == 1: #check if user want to know more\n",
        "    if first_q == False:\n",
        "      print(\"Eliza:\\tSorry, in what topic would you like more assistance?\")\n",
        "    else:\n",
        "      print(f\"Eliza:\\tCertainly! {my_questions[position_of_answer][3]}\")\n",
        "\n",
        "\n",
        "  elif positions == 2: #check if user is gonna leave\n",
        "    print(f\"Eliza:\\tGoodbye, have a nice day ;)\")\n",
        "    break;\n",
        "\n",
        "  else:\n",
        "    print(\"Eliza:\\tCritical server error which cannot be handled. Something went critically wrong!\\nEliza:\\tSorry for that.\\nEliza:\\tPlease restart.\")\n",
        "    break;\n",
        "\n",
        "\n",
        "def TO_DO():\n",
        "  '''\n",
        "  fix issue that for 'more' it gices fiorst answer even tho this was not triggered'\n",
        "  '''\n",
        "  pass\n",
        "\n",
        "def just_in_case():\n",
        "  '''\n",
        "    if user_input in hello_phrases: # Check if user says 'Hi'\n",
        "      pass\n",
        "\n",
        "    elif user_input in exit_phrases: #check if user is gonna leave\n",
        "      print(f\"Eliza:\\tGoodbye, have a nice day ;)\")\n",
        "      break;\n",
        "\n",
        "    elif user_input in more_phrases: #check if user want to know more\n",
        "      print(f\"Eliza:\\tCertainly! {my_questions[position_of_answer][3]}\")\n",
        "\n",
        "    else: #next question\n",
        "      position_of_answer = eliza_answers(user_input)\n",
        "      if position_of_answer == -1:\n",
        "        print(\"Eliza:\\tSorry, I did not get it ;/ Can you rephrase?\")\n",
        "      else:\n",
        "        print(f\"Eliza:\\t{my_questions[position_of_answer][2]}\")\n",
        "  '''\n",
        "  pass"
      ]
    }
  ],
  "metadata": {
    "colab": {
      "provenance": []
    },
    "kernelspec": {
      "display_name": "Python 3",
      "name": "python3"
    },
    "language_info": {
      "name": "python"
    }
  },
  "nbformat": 4,
  "nbformat_minor": 0
}